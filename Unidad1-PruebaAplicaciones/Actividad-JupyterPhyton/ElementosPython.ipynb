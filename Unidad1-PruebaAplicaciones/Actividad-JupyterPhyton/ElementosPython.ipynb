{
  "metadata": {
    "kernelspec": {
      "name": "python",
      "display_name": "Python (Pyodide)",
      "language": "python"
    },
    "language_info": {
      "codemirror_mode": {
        "name": "python",
        "version": 3
      },
      "file_extension": ".py",
      "mimetype": "text/x-python",
      "name": "python",
      "nbconvert_exporter": "python",
      "pygments_lexer": "ipython3",
      "version": "3.8"
    }
  },
  "nbformat_minor": 5,
  "nbformat": 4,
  "cells": [
    {
      "id": "75c4c7c1-a05d-4735-9634-6ca25b24165c",
      "cell_type": "markdown",
      "source": "# CURSO DE ESPECIALIZACIÓN DE CIBERSEGURIDAD\n# IES VALLE DEL JERTE PLASENCIA\n# MÓDULO PUESTA EN PRODUCCIÓN SEGURA",
      "metadata": {}
    },
    {
      "id": "d5c0a59c-2b5c-4533-8f53-023340c749df",
      "cell_type": "markdown",
      "source": "# Elementos principales de los programas",
      "metadata": {}
    },
    {
      "id": "aca8d272-30a5-4a4e-a2c9-4c1e0c82b372",
      "cell_type": "markdown",
      "source": "## Modo interactivo",
      "metadata": {}
    },
    {
      "id": "9f0c04be-c34f-4c54-9da0-ae795da853e5",
      "cell_type": "markdown",
      "source": "Cuando se leen los comandos desde un terminal, se dice que el intérprete está en modo interactivo. En este modo, espera el siguiente comando con el prompt primario, generalmente tres signos de mayor que (>>>); para las líneas de continuación, aparece el prompt secundario, por defecto tres puntos (...). El intérprete imprime un mensaje de bienvenida que indica su número de versión y un aviso de copyright antes de imprimir el primer prompt primario:",
      "metadata": {}
    },
    {
      "id": "dd233695-016e-44fd-b2a5-2a47b3c992c9",
      "cell_type": "markdown",
      "source": "```\npython3\nPython 3.13 (default, April 4 2023, 09:25:04)\n[GCC 10.2.0] on linux\nType \"help\", \"copyright\", \"credits\" or \"license\" for more information.\n>>>\n```\n",
      "metadata": {}
    },
    {
      "id": "fc6cc3a1-10e4-46dc-b155-d1d4f7de03b5",
      "cell_type": "markdown",
      "source": "A partir de aquí podríamos ejecutar en el terminal interactivo todas las operaciones y comandos de python que quisiéramos.\nComo estamos en un netbook, cualquier línea de código que escribamos en él, se va a ejecutar, ya que se estaría interpretando cuando le damos al botón de __run__ o bien con la combinación de teclas`Shift`+ `Enter`",
      "metadata": {}
    },
    {
      "id": "18ead4b3-b223-4763-8e80-f663a462ab74",
      "cell_type": "markdown",
      "source": "## Instalar Jupyter\nPara instalar Jupyter tenemos que tener instalado python 3 y pip3.\n",
      "metadata": {}
    },
    {
      "id": "7dd575da-4c7f-4df0-aeab-01422449b45d",
      "cell_type": "markdown",
      "source": "~~~\n$ sudo apt install python3\n$ sudo apt install pip3\n# si utilizas Kali, es posible que tengas que instalar  el paquete jupiter-notebook\n$ sudo apt install jupyter-notebook\n# Si utilizas otro linux, instalalo con pip\n$ pip install jupyterlab\n~~~",
      "metadata": {}
    },
    {
      "id": "8d29dabe",
      "cell_type": "markdown",
      "source": "## Ejecutar comandos de terminal desde notebook\nPodemos ejecutar comandos de terminal poniendo el símbolo ! delante del comando. \nPor ejemplo en la siguiente línea instalamos la extensión jupytext que nos dejará guardar el cuaderno en un archivo .py",
      "metadata": {}
    },
    {
      "id": "7857db85",
      "cell_type": "code",
      "source": "! pip install jupytext --upgrade",
      "metadata": {
        "scrolled": true,
        "trusted": true
      },
      "outputs": [
        {
          "ename": "<class 'OSError'>",
          "evalue": "Not available",
          "traceback": [
            "\u001b[0;31m---------------------------------------------------------------------------\u001b[0m",
            "\u001b[0;31mOSError\u001b[0m                                   Traceback (most recent call last)",
            "Cell \u001b[0;32mIn[1], line 1\u001b[0m\n\u001b[0;32m----> 1\u001b[0m \u001b[43mget_ipython\u001b[49m\u001b[43m(\u001b[49m\u001b[43m)\u001b[49m\u001b[38;5;241;43m.\u001b[39;49m\u001b[43msystem\u001b[49m\u001b[43m(\u001b[49m\u001b[38;5;124;43m'\u001b[39;49m\u001b[38;5;124;43m pip install jupytext --upgrade\u001b[39;49m\u001b[38;5;124;43m'\u001b[39;49m\u001b[43m)\u001b[49m\n",
            "File \u001b[0;32m/lib/python3.12/site-packages/IPython/core/interactiveshell.py:2653\u001b[0m, in \u001b[0;36mInteractiveShell.system_piped\u001b[0;34m(self, cmd)\u001b[0m\n\u001b[1;32m   2648\u001b[0m     \u001b[38;5;28;01mraise\u001b[39;00m \u001b[38;5;167;01mOSError\u001b[39;00m(\u001b[38;5;124m\"\u001b[39m\u001b[38;5;124mBackground processes not supported.\u001b[39m\u001b[38;5;124m\"\u001b[39m)\n\u001b[1;32m   2650\u001b[0m \u001b[38;5;66;03m# we explicitly do NOT return the subprocess status code, because\u001b[39;00m\n\u001b[1;32m   2651\u001b[0m \u001b[38;5;66;03m# a non-None value would trigger :func:`sys.displayhook` calls.\u001b[39;00m\n\u001b[1;32m   2652\u001b[0m \u001b[38;5;66;03m# Instead, we store the exit_code in user_ns.\u001b[39;00m\n\u001b[0;32m-> 2653\u001b[0m \u001b[38;5;28mself\u001b[39m\u001b[38;5;241m.\u001b[39muser_ns[\u001b[38;5;124m'\u001b[39m\u001b[38;5;124m_exit_code\u001b[39m\u001b[38;5;124m'\u001b[39m] \u001b[38;5;241m=\u001b[39m \u001b[43msystem\u001b[49m\u001b[43m(\u001b[49m\u001b[38;5;28;43mself\u001b[39;49m\u001b[38;5;241;43m.\u001b[39;49m\u001b[43mvar_expand\u001b[49m\u001b[43m(\u001b[49m\u001b[43mcmd\u001b[49m\u001b[43m,\u001b[49m\u001b[43m \u001b[49m\u001b[43mdepth\u001b[49m\u001b[38;5;241;43m=\u001b[39;49m\u001b[38;5;241;43m1\u001b[39;49m\u001b[43m)\u001b[49m\u001b[43m)\u001b[49m\n",
            "File \u001b[0;32m/lib/python3.12/site-packages/IPython/utils/_process_emscripten.py:11\u001b[0m, in \u001b[0;36msystem\u001b[0;34m(cmd)\u001b[0m\n\u001b[1;32m     10\u001b[0m \u001b[38;5;28;01mdef\u001b[39;00m \u001b[38;5;21msystem\u001b[39m(cmd):\n\u001b[0;32m---> 11\u001b[0m     \u001b[38;5;28;01mraise\u001b[39;00m \u001b[38;5;167;01mOSError\u001b[39;00m(\u001b[38;5;124m\"\u001b[39m\u001b[38;5;124mNot available\u001b[39m\u001b[38;5;124m\"\u001b[39m)\n",
            "\u001b[0;31mOSError\u001b[0m: Not available"
          ],
          "output_type": "error"
        }
      ],
      "execution_count": 1
    },
    {
      "id": "8af21b96-dbba-4431-a299-52075ec95628",
      "cell_type": "markdown",
      "source": "## Usando Python como una calculadora\nEl intérprete funciona como una simple calculadora: puedes introducir una expresión en él y este escribirá los valores. La sintaxis es sencilla: los operadores +, -, * y / se pueden usar para realizar operaciones aritméticas; los paréntesis (()) pueden ser usados para agrupar. Por ejemplo:",
      "metadata": {}
    },
    {
      "id": "2f04a443-f61a-4ef9-a654-ecc418b110ec",
      "cell_type": "code",
      "source": "2 + 2\n",
      "metadata": {
        "trusted": true
      },
      "outputs": [],
      "execution_count": null
    },
    {
      "id": "daadb7db-d8c2-41bf-9dc4-d64bd3fa8c69",
      "cell_type": "code",
      "source": "50 - 5*6",
      "metadata": {
        "trusted": true
      },
      "outputs": [],
      "execution_count": null
    },
    {
      "id": "69ed9326-a779-44bb-a6c1-eaec8aeacc01",
      "cell_type": "code",
      "source": "(50 - 5*6) / 4\n",
      "metadata": {
        "trusted": true
      },
      "outputs": [],
      "execution_count": null
    },
    {
      "id": "b88258a3-a61b-46b6-ac91-7cde45e3e27a",
      "cell_type": "code",
      "source": "8 / 5  # division always returns a floating-point number",
      "metadata": {
        "trusted": true
      },
      "outputs": [],
      "execution_count": null
    },
    {
      "id": "35407eb0",
      "cell_type": "markdown",
      "source": "# Elemenos principales de los programas\n\nEn este cuaderno de Jupyter vermos los principales elementos de los programas. \nNos centraremos en Python aunque también mencionaremos otros cuando sea necesario hacer un contraste.\n",
      "metadata": {}
    },
    {
      "id": "8bf33b6c",
      "cell_type": "markdown",
      "source": "## Programa básico de Python\nEl ejemplo siguiente muestra la plantilla de programa básico de Python 3 ",
      "metadata": {}
    },
    {
      "id": "2dfddd36",
      "cell_type": "code",
      "source": "def main():\n    print(\"¡Hola, mundo!\")\n\n\nif __name__ == \"__main__\":\n    main()\n    ",
      "metadata": {
        "trusted": true
      },
      "outputs": [],
      "execution_count": null
    },
    {
      "id": "bea79f10",
      "cell_type": "markdown",
      "source": "## Comentarios\n\n- Prácticamente todos los lenguajes de programación permiten insertar comentarios.\n- Los comentarios son bloques de texto que el programador puede incluir para explicar su programa a otras personas.\n- Serán ignorados por el compilador o por el intérprete que ejecute el programa.\n\n---\n\nEn **Python** y también en otros muchos lenguajes podemos utilizar diferentes tipos de comentarios:",
      "metadata": {}
    },
    {
      "id": "c71eddad",
      "cell_type": "code",
      "source": "# Comentarios de una sóla línea\n\"\"\"Podemos hacerlo con comillas dobles o simples\"\"\"\n\n# o comentarios en varias líneas\n'''este es el inicio de un comentario de varias líneas\npor aquí sigue siendo comentario\naquí acabaría '''",
      "metadata": {
        "trusted": true
      },
      "outputs": [],
      "execution_count": null
    },
    {
      "id": "82a59227-7e12-4162-b933-9261ece3beb9",
      "cell_type": "code",
      "source": "# Comentarios de una sóla línea\n'''este es el inicio de un comentario de varias líneas\npor aquí sigue siendo comentario\naquí acabaría '''\n\"\"\"Podemos hacerlo con comillas dobles o simples\"\"\"\nprint(\"los comentarios también los podemos hacer tras codigo\")   #como este",
      "metadata": {
        "trusted": true
      },
      "outputs": [],
      "execution_count": null
    },
    {
      "id": "541311a2-58b1-4827-ab24-ceaca6915ef4",
      "cell_type": "markdown",
      "source": "## Sentencias o Instrucciones\n\nLos programas escritos en lenguajes imperativos, y, en particular, los lenguajes de POO se componen básicamente de sentencias o instrucciones.\nEstas sentencias son una unidad completa de ejecución y equivalen a las oraciones del lenguaje humano.\nLas sentencias que componen un programa se ejecutan secuencialmente, salvo que empleemos\nsentencias de control especiales para saltar a otro punto del programa.\n\n- En `Python` no se delimitan de ninguna forma, aunque en otros lenguajes como `Java`, `Perl` o `C` se marca su final terminándolas en **;**\n\nPodemos diferenciar las instrucciones en:\n- Instrucciones básicas.\n- Estructuras de control.\n  \n### Instrucciones básicas:\n– **Asignaciones**: es la acción de guardar un valor (p.ej.: el resultado de una operación) en una zona reservada de memoria a la que damos un nombre\n>A dicha zona de memoria la conocemos como **variable**\n>\n– **Expresiones/Operaciones aritméticas**: representa la realización de un cálculo ya sea lógico, matemático, de texto, etc.\n> Estas expresiones pueden trabajar con **variables**, pero también con valores constantes, bien sean **numéricos**, **texto**, etc.Asignación: Asigna un valor a una variable (ej. x = 5 en muchos lenguajes).\n- **Entrada/Salida**: Permite leer datos del usuario o mostrar resultados (ej. print(\"Hola\") o input(\"Introduce un número:\")).\n- **Llamada a funciones/métodos**: Ejecuta código predefinido (ej. calcular_area(base, altura)). \n### Estructuras de control:\n- **Secuenciales**: Ejecutan instrucciones una tras otra en el orden en que aparecen.\n- **Condicionales**: Permiten ejecutar código diferente dependiendo de una condición (ej. if... else en muchos lenguajes). Permiten tomar decisiones en el programa. \n- **Bucles/Iteraciones**: Permiten repetir un bloque de código varias veces.\n",
      "metadata": {}
    },
    {
      "id": "2c1ce188-59c6-45a7-95ab-7a01cc734438",
      "cell_type": "markdown",
      "source": "## Bloques\nEn algunos lenguajes, las sentencias se pueden agrupar en bloques.\nDentro del bloque las instrucciones se ejecutan secuencialmente, salvo que haya sentencias de control.\nLos bloques son útiles en ciertos casos como:\n\n- **Organización del código**: Los bloques ayudan a estructurar el código, haciéndolo más legible y fácil de entender.\n- **Control de flujo**: Los bloques se utilizan en estructuras de control como condicionales (if, else, switch) y bucles (for, while) para definir qué secciones de código se ejecutan en función de ciertas condiciones.\n- **Modularidad**: Los bloques permiten dividir el código en partes más pequeñas y manejables, lo que facilita el desarrollo y el mantenimiento del software.\n- **Reutilización**: Los bloques de código pueden ser reutilizados en diferentes partes del programa o en otros programas, lo que ahorra tiempo y esfuerzo.- \n- **Depuración**: Los bloques facilitan la identificación y corrección de errores, ya que permiten aislar secciones específicas del código para su análisis. Organización del código:\n\nLos lenguajes de programación utilizan diferentes formas para definir estos bloques, como **llaves**, **palabras clave** o **indentación**. \nDiferentes formas de definir bloques en distintos lenguajes:\n- **Llaves {}**: Lenguajes como C, C++, Java, JavaScript y C# utilizan llaves para delimitar bloques de código. Por ejemplo:\n```C++\nif (condicion) {\n     // Bloque de código a ejecutar si la condición es verdadera\n}\n```\n- **Palabras clave (begin/end)**: Algunos lenguajes, como Pascal y algunos dialectos de Basic, utilizan palabras clave como begin y end para definir bloques: \n```Code\n\n    if condicion then\n      begin\n        // Bloque de código\n      end;\n```\n- **Indentación**: Lenguajes como Python y YAML utilizan la indentación (espacios al inicio de la línea) para definir bloques:\n\n```phyton\n    if condicion:\n        # Bloque de código indentado\n        # ...\n```\n\n",
      "metadata": {}
    },
    {
      "id": "e8448653-2639-482f-aa41-c63b331c584f",
      "cell_type": "markdown",
      "source": "## Asignaciones y expresiones\n\nYa hemos visto que las **asignaciones** on la acción de guardar un valor y la **expresiones** la realización de un cálculo.  \n\nAmbas utilizan elementos como:\n- Variables\n- Constantes\n- Texto\n\n",
      "metadata": {}
    },
    {
      "id": "2490af1c",
      "cell_type": "markdown",
      "source": "### Constantes\n\nUna constante es un valor que no puede ser modificado durante la ejecución de un programa.  \n\nSe utilizan para representar valores fijos y mejorar la legibilidad, mantenibilidad y evitar errores en el código. \n\nLos lenguajes de programación ofrecen diferentes formas de declarar y utilizar constantes, a menudo diferenciándolas de las variables mediante convenciones de nomenclatura (como el uso de mayúsculas en muchos lenguajes). \n\n- En **C/C++**: Se utiliza la palabra clave const para declarar constantes. \n```C++\n\n  const double PI = 3.14159;\n  const int MAX_INTENTOS = 3;\n\n- **Java**: Similar a C/C++, se usa final para declarar constantes. \nJava\n\n  final double PI = 3.14159;\n  final int MAX_INTENTOS = 3;\n\n\n- **Python**: Las constantes se declaran como variables, pero se siguen convenciones de nomenclatura para indicar que no deben ser modificadas (por ejemplo, usando mayúsculas). Deberemos dejar espacio entre contante símbolo igual y valor. \n",
      "metadata": {}
    },
    {
      "id": "981efbac",
      "cell_type": "code",
      "source": "MI_CONSTANTE = 'HOLA'\nPI = 3.14159\nMAX_INTENTOS = 3\nprint (MI_CONSTANTE)\nprint (PI)\nprint (MAX_INTENTOS)",
      "metadata": {
        "scrolled": true,
        "trusted": true
      },
      "outputs": [],
      "execution_count": null
    },
    {
      "id": "97f4d0ba-20d0-4406-a383-e2e03e0e9637",
      "cell_type": "markdown",
      "source": "### Texto\nEl texto se suele utilizar en lenguajes de programación bien como parte de variables y constantes, o en el proceso de entradas y salidas.\nLa mayor parte de los lenguajes utilizan las comillas para su manejo.\n\nPython puede manipular texto (representado por el tipo str, conocido como «cadenas de caracteres») al igual que números. Esto incluye caracteres «!», palabras «conejo», nombres «París», oraciones «¡Te tengo a la vista!», etc. «Yay! :)». Se pueden encerrar en comillas simples ('...') o comillas dobles (\"...\") con el mismo resultado\n",
      "metadata": {}
    },
    {
      "id": "c7ae6836-83c8-45c9-9753-d97a4eab045e",
      "cell_type": "code",
      "source": "'spam eggs'  # single quotes",
      "metadata": {
        "trusted": true
      },
      "outputs": [],
      "execution_count": null
    },
    {
      "id": "fa1c1b94-ac4e-404f-bdc8-fc87a38945ae",
      "cell_type": "code",
      "source": "\"Paris rabbit got your back :)! Yay!\"  # double quotes",
      "metadata": {
        "trusted": true
      },
      "outputs": [],
      "execution_count": null
    },
    {
      "id": "d063487c-26f5-4ace-a99e-e7c981bc38ad",
      "cell_type": "code",
      "source": "'1975'  # digits and numerals enclosed in quotes are also strings",
      "metadata": {
        "trusted": true
      },
      "outputs": [],
      "execution_count": null
    },
    {
      "id": "7db81250-6c80-4a70-9702-b75fe5f5654f",
      "cell_type": "markdown",
      "source": "En el intérprete de Python, la definición de cadena y la cadena de salida pueden verse diferentes. La función print() produce una salida más legible, omitiendo las comillas de encuadre e imprimiendo caracteres escapados y especiales:",
      "metadata": {}
    },
    {
      "id": "e2668462-c2d6-45d8-915e-61d10a4b31f3",
      "cell_type": "code",
      "source": "s = 'First line.\\nSecond line.'  # \\n means newline\nprint(s)  # with print(), special characters are interpreted, so \\n produces new line",
      "metadata": {
        "trusted": true
      },
      "outputs": [],
      "execution_count": null
    },
    {
      "id": "61684409-994b-4aba-a5a4-2d864568172e",
      "cell_type": "markdown",
      "source": "Si quieres concatenar variables o una variable y un literal, usa +:",
      "metadata": {}
    },
    {
      "id": "36c7fa65-2a5e-4f72-8b44-e609d8933407",
      "cell_type": "code",
      "source": "prefix = 'Py'\nprefix + 'thon'",
      "metadata": {
        "trusted": true
      },
      "outputs": [],
      "execution_count": null
    },
    {
      "id": "427f6622-fe8f-4a9b-ad41-d02fe460a5bf",
      "cell_type": "markdown",
      "source": "Las cadenas de texto se pueden indexar (subíndices), el primer carácter de la cadena tiene el índice 0. No hay un tipo de dato diferente para los caracteres; un carácter es simplemente una cadena de longitud uno:",
      "metadata": {}
    },
    {
      "id": "c8c39c3a-4090-43c9-9e71-89754cde8c8f",
      "cell_type": "code",
      "source": "word = 'Python'\nword[0]  # character in position 0",
      "metadata": {
        "trusted": true
      },
      "outputs": [],
      "execution_count": null
    },
    {
      "id": "54a146fb-4949-4b37-b66d-fd906f242f8a",
      "cell_type": "code",
      "source": "word[5]  # character in position 5",
      "metadata": {
        "scrolled": true,
        "trusted": true
      },
      "outputs": [],
      "execution_count": null
    },
    {
      "id": "dd1a6bbe-5102-4a76-b5b7-b47d85c4f953",
      "cell_type": "markdown",
      "source": "Los índices también pueden ser números negativos, para empezar a contar desde la derecha:",
      "metadata": {}
    },
    {
      "id": "a6922f39-15f0-47a6-aabd-c48e23bd7471",
      "cell_type": "code",
      "source": "word[-1]  # last character",
      "metadata": {
        "trusted": true
      },
      "outputs": [],
      "execution_count": null
    },
    {
      "id": "8dca734f-052b-4307-bdfc-2f7b2854b92e",
      "cell_type": "code",
      "source": "word[-2]  # second-last character",
      "metadata": {
        "scrolled": true,
        "trusted": true
      },
      "outputs": [],
      "execution_count": null
    },
    {
      "id": "19f48e84-60f9-426f-970b-3efa529d1773",
      "cell_type": "raw",
      "source": "Una forma de recordar cómo funcionan las rebanadas es pensar que los índices apuntan entre caracteres, con el borde izquierdo del primer carácter numerado 0. Luego, el punto derecho del último carácter de una cadena de n caracteres tiene un índice n, por ejemplo\n\n +---+---+---+---+---+---+\n | P | y | t | h | o | n |\n +---+---+---+---+---+---+\n 0   1   2   3   4   5   6\n-6  -5  -4  -3  -2  -1\n",
      "metadata": {}
    },
    {
      "id": "9b7ee64f",
      "cell_type": "markdown",
      "source": "## Variables\n\nSon zonas reservadas de memoria a las que damos nombres y que sirven para guardar temporalmente los datos del programa.\n\n![](https://developer.mozilla.org/en-US/docs/Learn_web_development/Core/Scripting/Variables/boxes.png)\n\nEn diferentes lenguajes de programación, aunque comparten la misma función básica, existen diferencias en su declaración y manejo. \n\nLlamamos  **tipo de una variable** al tipo de información que almacena, así tenemos diferentes tipos, algunos de ellos son:\n- **Enteros (int)**: Almacenan números sin decimales (ej. 10, -5, 0).\n- **Decimales (float, double)**: Almacenan números con decimales (ej. 3.14, -2.5).\n- **Cadenas de texto (string)**: Almacenan texto (ej. \"Hola\", \"Ejemplo de texto\").\n- **Booleanos (boolean)**: Almacenan valores verdadero/falso (true/false).\n- **Caracteres (char)**: Almacenan un solo carácter (ej. 'a', '!', '7'). \n\nAlgunos lenguajes requieren que se especifique el tipo de dato de la variable (**tipado estático**), mientras que otros lo determinan automáticamente (**tipado dinámico**). Además, las reglas para nombrar variables y el uso de palabras clave reservadas varían entre lenguajes. \n\n**Tipado estático**: En lenguajes como Java, C#, y C++, es necesario declarar el tipo de variable antes de usarla. A los lenguajes que incorporan el tipado estático se les denomina **lenguaje fuertemente tipados**.\n\n**Tipado dinámico**: En lenguajes como Python y JavaScript, no es necesario declarar el tipo; el tipo se determina automáticamente al asignar un valor.  A los lenguajes que incorporan el tipado dinámico se les denomina **lenguaje débilmente tipados**.\n\n> Los nombres de variables:\n> Deben ser descriptivos y fáciles de entender. \n> Pueden contener letras, números (no al principio) y algunos caracteres especiales ($, #, @). \n> No deben usar palabras clave reservadas del lenguaje. \n> La mayoría de los lenguajes son sensibles a mayúsculas y minúsculas (ej. edad es diferente a Edad). \n\n### Asignaciónes\n\nEs el acto de guardar un valor en una variable.\n\nEn la mayor parte de lenguajes, se hace de la forma **nombre_variable = valor**.\n\n>A la primera asignación de cada variable se le conoce como **inicialización**.\n\nEn muchos lenguajes se puede hacer la declaración y la inicialización a la vez.\n`java`\n```java\nint edad = 18;\n```\n\nEjemplos de uso en diferentes lenguajes:\n- Java: int edad = 25;\n- Python: edad = 25\n- JavaScript: let nombre = \"Ana\";\n- C#: string nombre = \"Carlos\";\n\n",
      "metadata": {}
    },
    {
      "id": "a9f64a06",
      "cell_type": "code",
      "source": "'''En Python, al ser de tipado dinámico, no es necesaria la declaración \nde variable ni indicar el tipo.'''\nmi_variable = 10\nprint (mi_variable)\nprint (type(mi_variable))    # Nos muestra el tipo de la variable que ha asignado python\n",
      "metadata": {
        "trusted": true
      },
      "outputs": [],
      "execution_count": null
    },
    {
      "id": "04783d50",
      "cell_type": "code",
      "source": "b = 5\nprint (\"b tiene un valor de \",b,\"y un tipo \",(type(b)))\nc = 6.0\nprint (\"b tiene un valor de \",c,\"y un tipo \",(type(c)))\nd = \"esto es un string\"\nprint (\"b tiene un valor de \",d,\"y un tipo \",(type(d)))\nd = 8       #cambiamos de valor a d y cambia de tipo \nprint (\"b tiene un valor de \",d,\"y un tipo \",(type(d)))",
      "metadata": {
        "trusted": true
      },
      "outputs": [],
      "execution_count": null
    },
    {
      "id": "e11ce38e",
      "cell_type": "markdown",
      "source": "Las variables solo pueden ser accedidas dentro de su\nscope (funciones, clases…).\nKeyword “global” para hacerla accesible desde fuera\nde su scope.",
      "metadata": {}
    },
    {
      "id": "938171db",
      "cell_type": "code",
      "source": "def funcion():\n    global x\n    x = \"carlos\"   \nfuncion()\nprint(\"hola, me llamo \" + x)",
      "metadata": {
        "trusted": true
      },
      "outputs": [],
      "execution_count": null
    },
    {
      "id": "311c3fe3",
      "cell_type": "markdown",
      "source": "### Casting de variables: conversión de un tipo de datos a otro.\n\nEn el contexto de la variable, surge el **casting de variables (o conversión de tipos)** que es el proceso de cambiar el tipo de dato de una variable a otro tipo diferente. Esto se hace para permitir operaciones o manipulaciones que requieren ciertos tipos de datos o para adaptar datos a diferentes contextos. \n\nTipos de casting:\n**Implícito (o automático)**: El lenguaje de programación realiza la conversión automáticamente cuando es seguro hacerlo, sin necesidad de intervención del programador. Por ejemplo, en muchos lenguajes, asignar un entero a una variable double es una conversión implícita. Algunos de los lenguajes con casting implícito son `Java`, `Python`, `C#` y `JavaScript`.\n\n**Explícito (o manual)**: El programador debe indicar explícitamente la conversión usando un operador de casting. Esto es necesario cuando la conversión puede llevar a la pérdida de datos o cuando el lenguaje no puede determinar la conversión segura automáticamente. Por ejemplo, convertir un double a un int requiere un casting explícito, ya que se perdería la parte decimal. \n\nEn **Python**, como tiene tipado dinámico implícito, no es neceario la declaración de la variable, simplemente le asignamos valores, Utilizamos el nombre con minusculas y guión bajo entre palabras. También al ser implícito tiene conversión de tipos automáticos, aunque podemos hacerlo de manera manual.\nEspecifica el tipo de dato (ojo, no es una declaración) str(), int(), float(), etc.\n",
      "metadata": {}
    },
    {
      "id": "f9124b87",
      "cell_type": "code",
      "source": "#Por ejemplo\nnombre =\"Carlos\"\nedad = 27\nprint(nombre + \",\" + edad + \" años\") \n#nos daría error",
      "metadata": {
        "trusted": true
      },
      "outputs": [],
      "execution_count": null
    },
    {
      "id": "7815788e",
      "cell_type": "code",
      "source": "#Para hacerlo correctamete hacemos conversión de tipo\nnombre =\"Carlos\"\nedad = 27\nprint(nombre + \",\" + str(edad) + \" años\") \n#nos daría error",
      "metadata": {
        "trusted": true
      },
      "outputs": [],
      "execution_count": null
    },
    {
      "id": "2d824a2e-e62c-44c8-9084-0eb585af9f99",
      "cell_type": "markdown",
      "source": "### Expresiones\n\nSon constructos compuestos de valores, variables, constantes, operadores y llamadas a métodos.\n\n- Al evaluarse dan resultado, que es un valor de un cierto tipo.\n- En algunas ocasiones nos sirven para tomar decisiones en las estructuras de control (`if`, `while`, `for`).\n\n**Ejemplos**\n\n((3+2)*(4/2.3)) - 5.2  \n(edad > 18)  \n\"Sr./Sra. \" + apellido  \ncalcularIngresos(2022) * 0.25  \nconexión.obtenerCuentaUsuario(2345)  \n",
      "metadata": {}
    },
    {
      "id": "f52a5d9a",
      "cell_type": "markdown",
      "source": "## Entrada por teclado\nPara tomar valores por teclado utilizamos la función input()",
      "metadata": {}
    },
    {
      "id": "c9398b26",
      "cell_type": "code",
      "source": "print(\"Introduzca un numero\")\nnumero = input()\nprint(\"el número que ha introducido es \" + numero)",
      "metadata": {
        "trusted": true
      },
      "outputs": [
        {
          "name": "stdout",
          "output_type": "stream",
          "text": " 12\n"
        },
        {
          "name": "stdout",
          "output_type": "stream",
          "text": "el número que ha introducido es 12\n"
        }
      ],
      "execution_count": null
    },
    {
      "id": "062d1261",
      "cell_type": "code",
      "source": "#o bien podemos hacerlo directamente\nnumero = input(\"introduzca un número \")\nprint(numero)",
      "metadata": {
        "trusted": true
      },
      "outputs": [
        {
          "name": "stdout",
          "output_type": "stream",
          "text": "12\n"
        }
      ],
      "execution_count": null
    },
    {
      "id": "2cb62a4e-27b7-4881-9546-9e346e38d51e",
      "cell_type": "code",
      "source": "### Salida de datos por pantalla",
      "metadata": {
        "trusted": true
      },
      "outputs": [],
      "execution_count": null
    },
    {
      "id": "64c7acde-9562-4d15-bb3e-07518f4fd9b6",
      "cell_type": "markdown",
      "source": "Para mostrar datos utilizamos la función print.\nPodemos dar formato al número mostrado. \nEn este caso hacemos casting para convertirlo en cadena de caracteres:",
      "metadata": {}
    },
    {
      "id": "f7b69b9e-cc18-4649-a8f6-c70b5d9dd0c9",
      "cell_type": "code",
      "source": "print ('El número introducido es: ' + str(numero))",
      "metadata": {
        "trusted": true
      },
      "outputs": [],
      "execution_count": null
    },
    {
      "id": "21dbf422-dc04-4078-a064-49dd812f5a15",
      "cell_type": "markdown",
      "source": "En la siguient línea usamos el método format para formatear el número pero no le aplicamos formato ninguno.",
      "metadata": {}
    },
    {
      "id": "b1463e1b-9f96-4e8e-a42f-7763fb964cf5",
      "cell_type": "code",
      "source": "print ('El número introducido es: {}'.format(numero))",
      "metadata": {
        "trusted": true
      },
      "outputs": [],
      "execution_count": null
    },
    {
      "id": "84c61488-0c61-4e45-a6c2-186d3b359a12",
      "cell_type": "markdown",
      "source": "y en este caso formateamos sólo 3 caracteres en la cadena introducida.",
      "metadata": {}
    },
    {
      "id": "fb1f0ef1-9efe-40b6-9a3c-185d158de957",
      "cell_type": "code",
      "source": "print ('El número %d introducido es: {:.3f}'.format (3.23243545454))",
      "metadata": {
        "trusted": true
      },
      "outputs": [],
      "execution_count": null
    },
    {
      "id": "7d5b8018",
      "cell_type": "markdown",
      "source": "## Sentencias de flujo de control\nEn python no existe switch.\n",
      "metadata": {}
    },
    {
      "id": "23da341d",
      "cell_type": "markdown",
      "source": "### Sentencia if\npodemos usar sentencias if: .... else: ....   o if: ... elif: .... else: ..... ",
      "metadata": {}
    },
    {
      "id": "5bfe0fdd",
      "cell_type": "code",
      "source": "numero = int(input(\"introduzca un número \"))\nif numero > 0:\n    print(\"numero positivo\")\nelif numero < 0:\n    print(\"numero negativo\")\nelse:\n    print (\"numero es cero\")",
      "metadata": {
        "trusted": true
      },
      "outputs": [
        {
          "name": "stdout",
          "output_type": "stream",
          "text": "numero positivo\n"
        }
      ],
      "execution_count": null
    },
    {
      "id": "dfa454c6-67e6-4c84-b950-7ab3d84d5566",
      "cell_type": "markdown",
      "source": "Puede haber cero o más bloques elif, y el bloque else es opcional. La palabra reservada elif es una abreviación de “else if”, y es útil para evitar un sangrado excesivo. Una secuencia if … elif … elif … sustituye las sentencias switch o case encontradas en otros lenguajes.\n\nSi necesitas comparar un mismo valor con muchas constantes, o comprobar que tenga un tipo o atributos específicos puede que encuentres útil la sentencia ``match``.",
      "metadata": {}
    },
    {
      "id": "b9127c25-ab5c-4fbc-b716-0c7c63cc0f58",
      "cell_type": "markdown",
      "source": "El bucle while se ejecuta mientras la condición (aquí: a < 10) sea verdadera. En Python, como en C, cualquier valor entero que no sea cero es verdadero; cero es falso. La condición también puede ser una cadena de texto o una lista, de hecho, cualquier secuencia; cualquier cosa con una longitud distinta de cero es verdadera, las secuencias vacías son falsas. La prueba utilizada en el ejemplo es una comparación simple. Los operadores de comparación estándar se escriben igual que en C: < (menor que), > (mayor que), == (igual a), <= (menor que o igual a), >= (mayor que o igual a) y != (distinto a).",
      "metadata": {}
    },
    {
      "id": "52a48d1e-02f7-4e94-b0b6-d1015020b963",
      "cell_type": "code",
      "source": "# Fibonacci series:\n# the sum of two elements defines the next\na, b = 0, 1\nwhile a < 10:\n    print(a)\n    a, b = b, a+b",
      "metadata": {
        "trusted": true
      },
      "outputs": [],
      "execution_count": null
    },
    {
      "id": "1f2853e2",
      "cell_type": "markdown",
      "source": "### Bucle for\n\nLa sintaxis de un bucle for es la siguiente:\n\nfor variable in elemento iterable (lista, cadena, range, etc.):\n    cuerpo del bucle\n    \nTenemos varios ejemplos diferentes",
      "metadata": {}
    },
    {
      "id": "c88fa8c1",
      "cell_type": "code",
      "source": "# aquí toma cada uno de los valores de una tupla\nprint(\"Comienzo\")\nfor i in [\"Alba\", \"Benito\", 27]:\n    print(f\"Hola. Ahora i vale {i}\")\nprint(\"Final\")",
      "metadata": {
        "trusted": true
      },
      "outputs": [],
      "execution_count": null
    },
    {
      "id": "c8cbd1cb",
      "cell_type": "code",
      "source": "\"\"\"en este caso podemos tomar los diferentes caraceres\nde una cadena\"\"\"\nfor i in \"AMIGO\":\n    print(f\"Dame una {i}\")\nprint(\"¡AMIGO!\")",
      "metadata": {
        "trusted": true
      },
      "outputs": [],
      "execution_count": null
    },
    {
      "id": "500a2bf3",
      "cell_type": "code",
      "source": "\"\"\"En este caso queremos realizar el bucle un número \ndeterminado de veces \"\"\"\nveces = int(input(\"¿Cuántas veces quiere que le salude? \"))\nfor i in range(veces):\n    print(\"Hola \", end=\"\")\nprint()\nprint(\"Adiós\")",
      "metadata": {
        "trusted": true
      },
      "outputs": [],
      "execution_count": null
    },
    {
      "id": "f934acd2-e95d-4440-ba4e-969f8e4a4502",
      "cell_type": "markdown",
      "source": "#### La función range()\nSi se necesita iterar sobre una secuencia de números, es apropiado utilizar la función integrada range(), la cual genera progresiones aritméticas:\n",
      "metadata": {}
    },
    {
      "id": "a69b67e1-ac05-401b-8224-38b9c9202bc8",
      "cell_type": "code",
      "source": "for i in range(5):\n    print(i)",
      "metadata": {
        "trusted": true
      },
      "outputs": [],
      "execution_count": null
    },
    {
      "id": "4289b971-55bc-4e3e-b558-fed46c4714a0",
      "cell_type": "markdown",
      "source": "El valor final dado nunca es parte de la secuencia; range(10) genera 10 valores, los índices correspondientes para los ítems de una secuencia de longitud 10. Es posible hacer que el rango empiece con otro número, o especificar un incremento diferente (incluso negativo; algunas veces se lo llama “paso”):",
      "metadata": {}
    },
    {
      "id": "680be7e3-7f1e-4065-aabd-88ab071b53f6",
      "cell_type": "code",
      "source": "list(range(5, 10))",
      "metadata": {
        "trusted": true
      },
      "outputs": [],
      "execution_count": null
    },
    {
      "id": "4b5ae884-7c3c-446e-bcc5-97e97c9ccd0c",
      "cell_type": "code",
      "source": "list(range(0, 10, 3))",
      "metadata": {
        "trusted": true
      },
      "outputs": [],
      "execution_count": null
    },
    {
      "id": "920c90b3-28a4-4429-8ab3-63cab46e15c2",
      "cell_type": "code",
      "source": "list(range(-10, -100, -30))",
      "metadata": {
        "trusted": true
      },
      "outputs": [],
      "execution_count": null
    },
    {
      "id": "09dca6e9-8699-4e52-8bdc-78cd0ac1c785",
      "cell_type": "markdown",
      "source": "Para iterar sobre los índices de una secuencia, puedes combinar range() y len() así:",
      "metadata": {}
    },
    {
      "id": "3132608b-8e33-4a4b-b7fd-e89a936361c8",
      "cell_type": "code",
      "source": "a = ['Mary', 'had', 'a', 'little', 'lamb']\nfor i in range(len(a)):\n    print(i, a[i])",
      "metadata": {
        "trusted": true
      },
      "outputs": [],
      "execution_count": null
    },
    {
      "id": "f3a68ced-ef7f-4978-8c32-234e43c7a650",
      "cell_type": "markdown",
      "source": "#### Sentencias ``break`` y ``continue``\nEstas sentencias se utilizan dentro de los bloques `` for`` y ``while``\nLa sentencia ``break`` finaliza el bucle.",
      "metadata": {}
    },
    {
      "id": "81232523-3645-4646-9714-945d50d45d50",
      "cell_type": "code",
      "source": "for n in range(2, 10):\n    for x in range(2, n):\n        if n % x == 0:\n            print(f\"{n} equals {x} * {n//x}\")\n            break",
      "metadata": {
        "trusted": true
      },
      "outputs": [],
      "execution_count": null
    },
    {
      "id": "97263173-cc6a-41ff-85c4-3ddb9acc360b",
      "cell_type": "markdown",
      "source": "La sentencia ``continue`` salta a la siguiente iteración del bucle. Nos puede servir para que no se realicen acciones en la iteracción actual.",
      "metadata": {}
    },
    {
      "id": "e1fe02d3-327e-415b-bdd4-57fef147d7e2",
      "cell_type": "code",
      "source": "for num in range(2, 10):\n    if num % 2 == 0:\n        print(f\"Found an even number {num}\")\n        continue\n    print(f\"Found an odd number {num}\")",
      "metadata": {
        "trusted": true
      },
      "outputs": [],
      "execution_count": null
    },
    {
      "id": "6f13962b-e04d-48b1-9d09-c23ac0072318",
      "cell_type": "markdown",
      "source": "### Estructuras de datos\n### Listas, Tuplas y rangos",
      "metadata": {}
    },
    {
      "id": "6f1985ad-e197-4d85-9f19-c6e3e1957804",
      "cell_type": "markdown",
      "source": "### Listas \nPython tiene varios tipos de datos compuestos, utilizados para agrupar otros valores. El más versátil es la lista, la cual puede ser escrita como una lista de valores separados por coma (ítems) entre corchetes. Las listas pueden contener ítems de diferentes tipos, pero usualmente los ítems son del mismo tipo.",
      "metadata": {}
    },
    {
      "id": "2aec3fb2-17c0-4a6c-97c5-74c942f6ee00",
      "cell_type": "code",
      "source": "squares = [1, 4, 9, 16, 25]\nsquares",
      "metadata": {
        "trusted": true
      },
      "outputs": [],
      "execution_count": null
    },
    {
      "id": "cad9bac9-6eec-4b92-89a2-ef6cf5ef5240",
      "cell_type": "markdown",
      "source": "Al igual que las cadenas (y todas las demás tipos integrados sequence), las listas se pueden indexar y segmentar:",
      "metadata": {}
    },
    {
      "id": "6a745234-dd40-4926-b8cb-a0732a836cf6",
      "cell_type": "code",
      "source": "squares[0]  # indexing returns the item",
      "metadata": {
        "trusted": true
      },
      "outputs": [],
      "execution_count": null
    },
    {
      "id": "e9ccf055-fc25-458d-89af-a79df7487055",
      "cell_type": "code",
      "source": "squares[-3:]  # slicing returns a new list",
      "metadata": {
        "trusted": true
      },
      "outputs": [],
      "execution_count": null
    },
    {
      "id": "058317f2-cfe3-4908-b4d7-740a9a40257f",
      "cell_type": "code",
      "source": "# ¿Qué resultado se obtendría al acceder a“mi_lista[4]”? \nsquares[6]\n#Obtenemos un error ya que no existe ningún elemento",
      "metadata": {
        "trusted": true
      },
      "outputs": [],
      "execution_count": null
    },
    {
      "id": "cfe61157-c72a-4e3b-b42d-3b987273b05d",
      "cell_type": "markdown",
      "source": "Las listas también admiten operaciones como concatenación a través del método .extend():",
      "metadata": {}
    },
    {
      "id": "273c407d-ded7-4bed-9416-fae32060ee41",
      "cell_type": "code",
      "source": "squares.extend([36, 49, 64, 81, 100])\nsquares",
      "metadata": {
        "trusted": true
      },
      "outputs": [],
      "execution_count": null
    },
    {
      "id": "ec8a8901-a72b-4fb4-84d9-a5b45446cb8b",
      "cell_type": "markdown",
      "source": "A diferencia de las cadenas, que son immutable, las listas son de tipo mutable, es decir, es posible cambiar su contenido:",
      "metadata": {}
    },
    {
      "id": "1190e043-226d-4984-b6c7-d39265770cfe",
      "cell_type": "code",
      "source": "cubes = [1, 8, 27, 65, 125]  # something's wrong here4 ** 3  # the cube of 4 is 64, not 65!\ncubes[3] = 64  # replace the wrong value\ncubes",
      "metadata": {
        "trusted": true
      },
      "outputs": [],
      "execution_count": null
    },
    {
      "id": "a5cc5ea4-26a1-44f0-b3fe-23e1d1a82ff8",
      "cell_type": "markdown",
      "source": "Es posible anidar listas (crear listas que contengan otras listas), por ejemplo:",
      "metadata": {}
    },
    {
      "id": "08a8bae9-27a0-49d3-9e71-eef763721219",
      "cell_type": "code",
      "source": "a = ['a', 'b', 'c']\nn = [1, 2, 3]\nx = [a, n]\nx",
      "metadata": {
        "trusted": true
      },
      "outputs": [],
      "execution_count": null
    },
    {
      "id": "df3f7615-90ec-4412-bff6-83248fa51bb9",
      "cell_type": "code",
      "source": "x[0]",
      "metadata": {
        "trusted": true
      },
      "outputs": [],
      "execution_count": null
    },
    {
      "id": "35c59d43-23b8-42e7-8bb7-b7abf3503112",
      "cell_type": "code",
      "source": "x[0][1]",
      "metadata": {
        "trusted": true
      },
      "outputs": [],
      "execution_count": null
    },
    {
      "id": "57960ef1-c97f-43a1-8dbc-d2eba27c547a",
      "cell_type": "markdown",
      "source": "Manipular sublistas",
      "metadata": {}
    },
    {
      "id": "2eb06b35-af8d-4222-ada7-e448fc636ac0",
      "cell_type": "code",
      "source": "# Se puede obtener una sublista indicando inicio:limite(limite=fin+1)\n#mi_lista[1:4]\ndias = [\"Lunes\", \"M\", artes\", \"Miércoles\", \"Jueves\", \"Viernes\"Sábado\", \"Domingo\"]\ndias[1:4] # Se extrae una lista con los valores 1, 2 y 3\n#['Martes', 'Miércoles', 'Jueves']\ndias[4:5] # Se extrae una lista con el valor 4\n#['Viernes']\ndias[4:4] # Se extrae una lista vacía\n#[]\ndias[:4]  # Se extrae una lista hasta el valor 4 (no incluido)\n#['Lunes', 'Martes', 'Miércoles', 'Jueves']\ndias[4:]  # Se extrae una lista desde el valor 4 (incluido)\n#['Viernes', 'Sábado', 'Domingo']\ndias[:]   # Se extrae una lista con todos los valores\n#['Lunes', 'Martes', 'Miércoles', 'Jueves', 'Viernes', 'Sábado', 'Domingo']",
      "metadata": {
        "trusted": true
      },
      "outputs": [],
      "execution_count": null
    },
    {
      "id": "76e2208d-d681-4673-a67d-c98e9117f2cc",
      "cell_type": "markdown",
      "source": "La función incorporada len() retorna la longitud de una cadena:",
      "metadata": {}
    },
    {
      "id": "ec63dd86-61d5-455a-8927-07d3dc0f5f24",
      "cell_type": "code",
      "source": "s = 'supercalifragilisticexpialidocious'\nlen(s)",
      "metadata": {
        "trusted": true
      },
      "outputs": [],
      "execution_count": null
    },
    {
      "id": "992bcf9d-8de8-45d8-bfa2-f6d9a59ebec9",
      "cell_type": "markdown",
      "source": "### Tuplas\nEn Python, una tupla es un conjunto ordenado e inmutable de elementos del mismo o diferente tipo.\n\nLas tuplas se representan escribiendo los elementos entre paréntesis y separados por comas.",
      "metadata": {}
    },
    {
      "id": "55d15405-0889-488a-9856-4fe16dedd90e",
      "cell_type": "code",
      "source": "mi_tupla = [1, \"b\", 7.18]\n#para acceder a un elemento de la tupla usámos el índice\nprint (mi_tupla[2])\n#len() nos devuelve la longitud de la tupla\nlen(mi_tupla)",
      "metadata": {
        "trusted": true
      },
      "outputs": [],
      "execution_count": null
    },
    {
      "id": "1a872ebd-3caa-49eb-873c-a8658208c9d4",
      "cell_type": "code",
      "source": "## Entrada y salida de datos",
      "metadata": {
        "trusted": true
      },
      "outputs": [],
      "execution_count": null
    },
    {
      "id": "25b9db47-660b-4ca2-8a37-2d075732c9db",
      "cell_type": "markdown",
      "source": "## Funciones en Python\n### Definir funciones\nLa palabra reservada def se usa para definir funciones. Debe seguirle el nombre de la función y la lista de parámetros formales entre paréntesis. Las sentencias que forman el cuerpo de la función empiezan en la línea siguiente, y deben estar con sangría.\n\nLa primera sentencia del cuerpo de la función puede ser opcionalmente una cadena de texto literal; esta es la cadena de texto de documentación de la función, o _docstring_",
      "metadata": {}
    },
    {
      "id": "43d9c48f-145a-4a7c-ba2b-f9b96792f944",
      "cell_type": "code",
      "source": "## Entrada y salida de datos",
      "metadata": {
        "trusted": true
      },
      "outputs": [],
      "execution_count": null
    },
    {
      "id": "9623e6b1-6bb0-4258-9c89-8538923ad792",
      "cell_type": "code",
      "source": "def fib(n):    # write Fibonacci series less than n\n    \"\"\"Print a Fibonacci series less than n.\"\"\"\n    a, b = 0, 1\n    while a < n:\n        print(a, end=' ')\n        a, b = b, a+b\n    print()",
      "metadata": {
        "trusted": true
      },
      "outputs": [],
      "execution_count": null
    },
    {
      "id": "00bafdcf-80f9-4ba9-9953-516feb0634d6",
      "cell_type": "code",
      "source": "fib(2000)  # Now call the function we just defined:",
      "metadata": {
        "trusted": true
      },
      "outputs": [],
      "execution_count": null
    },
    {
      "id": "23f4eafa-a640-400f-8d54-2668ae22a2c2",
      "cell_type": "markdown",
      "source": "Viniendo de otros lenguajes, puedes objetar que fib no es una función, sino un procedimiento, porque no retorna un valor. De hecho, técnicamente hablando, los procedimientos sin return sí retornan un valor, aunque uno bastante aburrido. Este valor se llama None (es un nombre predefinido). El intérprete por lo general no escribe el valor None si va a ser el único valor escrito. Puede verlo si realmente lo desea utilizando print():",
      "metadata": {}
    },
    {
      "id": "c1726804-1755-4e86-9c91-4fa95d5d273d",
      "cell_type": "code",
      "source": "fib(0)\nprint(fib(0))",
      "metadata": {
        "trusted": true
      },
      "outputs": [],
      "execution_count": null
    },
    {
      "id": "07c221f9-1197-45d7-8123-d09e33f25b87",
      "cell_type": "markdown",
      "source": "Es simple escribir una función que retorne una lista con los números de la serie de Fibonacci en lugar de imprimirlos:",
      "metadata": {}
    },
    {
      "id": "13277dcc-abc7-4558-8ff3-c16ba2904acd",
      "cell_type": "code",
      "source": "def fib2(n):  # return Fibonacci series up to n\n    \"\"\"Return a list containing the Fibonacci series up to n.\"\"\"\n    result = []\n    a, b = 0, 1\n    while a < n:\n        result.append(a)    # see below\n        a, b = b, a+b\n    return result\n\nf100 = fib2(100)    # call it\nf100                # write the result",
      "metadata": {
        "trusted": true
      },
      "outputs": [],
      "execution_count": null
    },
    {
      "id": "3777492e-5380-4132-b51d-fbfa39bb371a",
      "cell_type": "markdown",
      "source": "Este ejemplo, como es usual, demuestra algunas características más de Python:\nLa sentencia return retorna un valor en una función. return sin una expresión como argumento retorna None. Si se alcanza el final de una función, también se retorna None.\nLa sentencia result.append(a) llama a un método del objeto lista result. Un método es una función que “pertenece” a un objeto y se nombra obj.methodname, dónde obj es algún objeto (puede ser una expresión), y methodname es el nombre del método que está definido por el tipo del objeto. Distintos tipos definen distintos métodos. Métodos de diferentes tipos pueden tener el mismo nombre sin causar ambigüedad. (Es posible definir tus propios tipos de objetos y métodos, usando clases, ver Clases). El método append() mostrado en el ejemplo está definido para objetos lista; añade un nuevo elemento al final de la lista. En este ejemplo es equivalente a result = result + [a], pero más eficiente.",
      "metadata": {}
    },
    {
      "id": "3bd7bc92-919b-4e8e-bc5d-e4f74109b63a",
      "cell_type": "markdown",
      "source": "### Argumentos con valores por omisión\nLa forma más útil es especificar un valor por omisión para uno o más argumentos. Esto crea una función que puede ser llamada con menos argumentos que los que permite. Por ejemplo:",
      "metadata": {}
    },
    {
      "id": "863e7918-8e5c-4564-b60b-8f2cf781baf2",
      "cell_type": "code",
      "source": "def ask_ok(prompt, retries=4, reminder='Please try again!'):\n    while True:\n        reply = input(prompt)\n        if reply in {'y', 'ye', 'yes'}:\n            return True\n        if reply in {'n', 'no', 'nop', 'nope'}:\n            return False\n        retries = retries - 1\n        if retries < 0:\n            raise ValueError('invalid user response')\n        print(reminder)",
      "metadata": {
        "trusted": true
      },
      "outputs": [],
      "execution_count": null
    },
    {
      "id": "3abd2389-f952-434f-bd72-b6db5bf26aa0",
      "cell_type": "markdown",
      "source": "Esta función puede ser llamada de distintas maneras:\n\npasando sólo el argumento obligatorio: ",
      "metadata": {}
    },
    {
      "id": "a1ac4b43-e01a-4e1d-b195-8faa8cb99344",
      "cell_type": "code",
      "source": "ask_ok('Do you really want to quit?')",
      "metadata": {
        "trusted": true
      },
      "outputs": [],
      "execution_count": null
    },
    {
      "id": "9508c918-37fe-4fec-8da8-bbf5e0520d47",
      "cell_type": "markdown",
      "source": "pasando uno de los argumentos opcionales: ",
      "metadata": {}
    },
    {
      "id": "cafc95f7-f9e7-43a1-87ce-34bf252e51be",
      "cell_type": "code",
      "source": "ask_ok('OK to overwrite the file?', 2)",
      "metadata": {
        "trusted": true
      },
      "outputs": [],
      "execution_count": null
    },
    {
      "id": "6175efc9-193e-4107-9106-877f82df1780",
      "cell_type": "markdown",
      "source": "o pasando todos los argumentos:",
      "metadata": {}
    },
    {
      "id": "a33a5702-86b8-4ed1-8f8a-3376c623425e",
      "cell_type": "code",
      "source": "ask_ok('OK to overwrite the file?', 2, 'Come on, only yes or no!')",
      "metadata": {
        "trusted": true
      },
      "outputs": [],
      "execution_count": null
    },
    {
      "id": "13353908-2ab6-4977-b24c-d7059f886bbe",
      "cell_type": "markdown",
      "source": "Este ejemplo también introduce la palabra reservada in, la cual prueba si una secuencia contiene o no un determinado valor.",
      "metadata": {}
    },
    {
      "id": "749667d2-9902-46fb-b216-1271d72e507b",
      "cell_type": "markdown",
      "source": "## Excepciones\n\nLas **excepciones** representan condiciones de error en un programa.  \nLa captura de excepciones indica qué hacer si se produce alguno de estos errores.  \nEl manejo de excepciones varía entre lenguajes de programación, pero en general, implica identificar errores, lanzar excepciones, y luego capturarlas y manejarlas para evitar que el programa termine abruptamente. Los lenguajes modernos suelen utilizar estructuras como `try`, `catch`, y `finally` para este propósito. \n\n#### Mecanismos comunes de manejo de excepciones:\n\n- **try-catch**:\nUn bloque `try` encierra el código que podría generar una excepción.   Si una excepción ocurre dentro del bloque `try`, el control pasa al bloque `catch` correspondiente.  \nEl bloque `catch` define cómo se debe manejar la excepción. \n- **try-finally**:\nUn bloque `finally` se ejecuta siempre, independientemente de si se produjo o no una excepción. Esto es útil para la limpieza de recursos, como liberar archivos o conexiones de red, independientemente de si el código en el bloque try falló.\n\n**Lanzamiento de excepciones* (`throw`):\nLas excepciones se pueden lanzar explícitamente utilizando la palabra clave throw. \n\n\n`Java`\n```\ntry { // código } catch (Exception e) { // manejo de la excepción } finally { // código que siempre se ejecuta }. \n```\n\n`Python`\n```\ntry:\n    # Código que puede generar una excepción\n    x = 1 / 0  # Intento de división por cero\nexcept ZeroDivisionError:\n    # Manejo de la excepción ZeroDivisionError\n    print(\"¡No se puede dividir por cero!\")\nexcept ValueError:\n    print(\"Valor inválido ingresado\")\nexcept Exception as e:\n    print(f\"Ocurrió un error: {e}\")\nelse:\n    # Este bloque se ejecuta si no se produce ninguna excepción\n    print(\"Operación exitosa\")\nfinally:\n    # Este bloque se ejecuta siempre, haya o no excepción\n    print(\"Finalizando la ejecución\")\n```\n\n## Programación Orientada a objetos: Clases\n\nLas clases son plantillas para describir objetos de un mismo tipo. En particular contienen:\n– **Atributos**: características que nos interesa representar de dicho objeto.\n– **Métodos**: representan las acciones que pueden realizar los objetos de la clase, y por tanto su comportamiento.\n– **Método constructor**: explica cómo crear objetos de dicha clase.\n\n\n### Métodos\n\nSon una evolución de las funciones de los lenguajes imperativos no orientados a objetos.  \nUn método explica cómo un objeto lleva a cabo una acción, en la que puede interactuar con otros objetos.  \nLos métodos al igual que las funciones suelen declarar parámetros y el tipo de dato devuelto.  \n\n### Constructores\n\nLos constructores son un tipo especial de método de los lenguajes de POO que sirven para crear objetos de una clase.  \n– Podrían no considerarse métodos de objeto porque no los invocan objetos.\n– Podrían no considerarse métodos de clase porque acceden a atributos de objeto (no estáticos).  \nTienen un operador especial para invocarlos.\n\nEjemplo de una clase de `Python`:\n`Python`\n```\nclass Perro:\n    def __init__(self, nombre, raza):\n        self.nombre = nombre\n        self.raza = raza\n\n    def ladrar(self):\n        print(\"Guau!\")\n\n    def mostrar_info(self):\n        print(f\"Nombre: {self.nombre}, Raza: {self.raza}\")\n\n# Crear un objeto (instancia) de la clase Perro:  \nmi_perro = Perro(\"Toby\", \"Golden Retriever\")\n\n# Acceder a los atributos del objeto:  \nprint(mi_perro.nombre)  # Salida: Toby\nmi_perro.mostrar_info() # Salida: Nombre: Toby, Raza: Golden Retriever\n\n# Llamar a un método del objeto:  \nmi_perro.ladrar()      # Salida: Guau!\n```\n\n\n### Modificadores de visibilidad\n\nEn muchos lenguajes de programación, las clases, sus atributos, métodos y constructores pueden tener modificadores de visibilidad.  \nEstos modificadores controlan desde qué clases se tiene acceso a dichos elementos.\n\n\nEn Python, aunque no existen modificadores de acceso explícitos como en otros lenguajes (como public, private, protected en Java), se utilizan convenciones de nombres para simular la encapsulación y controlar la visibilidad de atributos y métodos dentro de las clases. \nConvenciones de nombres para la visibilidad:  \n- **Público** (Public):\nPor defecto, todos los atributos y métodos de una clase son públicos, es decir, pueden ser accedidos desde cualquier parte del código, tanto dentro como fuera de la clase. No se utiliza ningún prefijo especial para indicar la visibilidad pública. \n- **Protegido** (Protected):\nSe considera una convención que los atributos y métodos precedidos por un guion bajo (_) son protegidos. Esto sugiere que no deben ser accedidos directamente fuera de la clase o sus subclases, aunque el intérprete de Python no impone ninguna restricción. \n- **Privado** (Private):\nLos atributos y métodos precedidos por dos guiones bajos (__) se consideran privados. Esto activa el name mangling, que es un mecanismo que modifica el nombre del atributo para dificultar su acceso desde fuera de la clase, pero no lo impide por completo. \n\n\n",
      "metadata": {}
    },
    {
      "id": "244db5b8-c299-4cd8-a66f-452f86c5e223",
      "cell_type": "code",
      "source": "",
      "metadata": {
        "trusted": true
      },
      "outputs": [],
      "execution_count": null
    }
  ]
}